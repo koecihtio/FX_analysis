{
 "cells": [
  {
   "cell_type": "markdown",
   "metadata": {},
   "source": [
    "# データセットの構築スクリプト"
   ]
  },
  {
   "cell_type": "markdown",
   "metadata": {},
   "source": [
    "データ取得開始日と終了日の設定関数"
   ]
  },
  {
   "cell_type": "code",
   "execution_count": 21,
   "metadata": {},
   "outputs": [],
   "source": [
    "import datetime\n",
    "import pandas as pd\n",
    "import pandas_datareader as pdr\n",
    "from dateutil.relativedelta import relativedelta"
   ]
  },
  {
   "cell_type": "code",
   "execution_count": 28,
   "metadata": {},
   "outputs": [],
   "source": [
    "def get_start_end(months, days=0):\n",
    "    today = datetime.date.today()\n",
    "    start = today - relativedelta(months=months, days=days)\n",
    "    end = today\n",
    "    \n",
    "    return (start, end)"
   ]
  },
  {
   "cell_type": "code",
   "execution_count": 29,
   "metadata": {},
   "outputs": [
    {
     "data": {
      "text/plain": [
       "(datetime.date(2021, 10, 26), datetime.date(2022, 1, 26))"
      ]
     },
     "execution_count": 29,
     "metadata": {},
     "output_type": "execute_result"
    }
   ],
   "source": [
    "get_start_end(months=3)"
   ]
  },
  {
   "cell_type": "markdown",
   "metadata": {},
   "source": [
    "データのロード関数"
   ]
  },
  {
   "cell_type": "code",
   "execution_count": 26,
   "metadata": {},
   "outputs": [],
   "source": [
    "def load_data():\n",
    "    start, end = get_start_end(months=3)\n",
    "    nikkei = pd.DataFrame(pdr.DataReader(\"NIKKEI225\",\"fred\",start,end))\n",
    "    \n",
    "    return nikkei"
   ]
  },
  {
   "cell_type": "code",
   "execution_count": 30,
   "metadata": {},
   "outputs": [
    {
     "data": {
      "text/html": [
       "<div>\n",
       "<style scoped>\n",
       "    .dataframe tbody tr th:only-of-type {\n",
       "        vertical-align: middle;\n",
       "    }\n",
       "\n",
       "    .dataframe tbody tr th {\n",
       "        vertical-align: top;\n",
       "    }\n",
       "\n",
       "    .dataframe thead th {\n",
       "        text-align: right;\n",
       "    }\n",
       "</style>\n",
       "<table border=\"1\" class=\"dataframe\">\n",
       "  <thead>\n",
       "    <tr style=\"text-align: right;\">\n",
       "      <th></th>\n",
       "      <th>NIKKEI225</th>\n",
       "    </tr>\n",
       "    <tr>\n",
       "      <th>DATE</th>\n",
       "      <th></th>\n",
       "    </tr>\n",
       "  </thead>\n",
       "  <tbody>\n",
       "    <tr>\n",
       "      <th>2021-10-26</th>\n",
       "      <td>29106.01</td>\n",
       "    </tr>\n",
       "    <tr>\n",
       "      <th>2021-10-27</th>\n",
       "      <td>29098.24</td>\n",
       "    </tr>\n",
       "    <tr>\n",
       "      <th>2021-10-28</th>\n",
       "      <td>28820.09</td>\n",
       "    </tr>\n",
       "    <tr>\n",
       "      <th>2021-10-29</th>\n",
       "      <td>28892.69</td>\n",
       "    </tr>\n",
       "    <tr>\n",
       "      <th>2021-11-01</th>\n",
       "      <td>29647.08</td>\n",
       "    </tr>\n",
       "    <tr>\n",
       "      <th>...</th>\n",
       "      <td>...</td>\n",
       "    </tr>\n",
       "    <tr>\n",
       "      <th>2022-01-19</th>\n",
       "      <td>27467.23</td>\n",
       "    </tr>\n",
       "    <tr>\n",
       "      <th>2022-01-20</th>\n",
       "      <td>27772.93</td>\n",
       "    </tr>\n",
       "    <tr>\n",
       "      <th>2022-01-21</th>\n",
       "      <td>27522.26</td>\n",
       "    </tr>\n",
       "    <tr>\n",
       "      <th>2022-01-24</th>\n",
       "      <td>27588.37</td>\n",
       "    </tr>\n",
       "    <tr>\n",
       "      <th>2022-01-25</th>\n",
       "      <td>27131.34</td>\n",
       "    </tr>\n",
       "  </tbody>\n",
       "</table>\n",
       "<p>66 rows × 1 columns</p>\n",
       "</div>"
      ],
      "text/plain": [
       "            NIKKEI225\n",
       "DATE                 \n",
       "2021-10-26   29106.01\n",
       "2021-10-27   29098.24\n",
       "2021-10-28   28820.09\n",
       "2021-10-29   28892.69\n",
       "2021-11-01   29647.08\n",
       "...               ...\n",
       "2022-01-19   27467.23\n",
       "2022-01-20   27772.93\n",
       "2022-01-21   27522.26\n",
       "2022-01-24   27588.37\n",
       "2022-01-25   27131.34\n",
       "\n",
       "[66 rows x 1 columns]"
      ]
     },
     "execution_count": 30,
     "metadata": {},
     "output_type": "execute_result"
    }
   ],
   "source": [
    "load_data()"
   ]
  },
  {
   "cell_type": "code",
   "execution_count": null,
   "metadata": {},
   "outputs": [],
   "source": [
    "def content_corrlation():\n",
    "    today=datetime.today()\n",
    "    yesterday = today - timedelta(days=1)\n",
    "    three_month_ago = today - relativedelta(months=3)\n",
    "    \n",
    "    \n",
    "    start= three_month_ago \n",
    "    end=today\n",
    "    \n",
    "    dow=pd.DataFrame(np.log(pdr.DataReader(\"DJIA\",\"fred\",start,end)))\n",
    "    usdjpy =pd.DataFrame(np.log(pdr.DataReader(\"DEXJPUS\",\"fred\",start,end)))\n",
    "    nikkei=pd.DataFrame(np.log(pdr.DataReader(\"NIKKEI225\",\"fred\",start,end)))\n",
    "    btc=pd.DataFrame(np.log(pdr.DataReader(\"CBBTCUSD\",\"fred\",start,end)))\n",
    "    eurusd =pd.DataFrame(np.log(pdr.DataReader(\"DEXUSEU\",\"fred\",start,end)))\n",
    "    gbpusd =pd.DataFrame(np.log(pdr.DataReader(\"DEXUSUK\",\"fred\",start,end)))\n",
    "    usdcad =pd.DataFrame(np.log(pdr.DataReader(\"DEXCAUS\",\"fred\",start,end)))\n",
    "    aususd =pd.DataFrame(np.log(pdr.DataReader(\"DEXUSAL\",\"fred\",start,end)))\n",
    "    usdchf =pd.DataFrame(np.log(pdr.DataReader(\"DEXSZUS\",\"fred\",start,end)))\n",
    "    us10y = pd.DataFrame(np.log(pdr.DataReader(\"DGS10\",\"fred\",start,end)))\n",
    "    vix = pd.DataFrame(np.log(pdr.DataReader(\"VIXCLS\",\"fred\",start,end)))\n",
    "    gold= pd.DataFrame(np.log(pdr.DataReader(\"GOLDAMGBD228NLBM\",\"fred\",start,end)))\n",
    "    wti= pd.DataFrame(np.log(pdr.DataReader(\"DCOILWTICO\",\"fred\",start,end)))\n",
    "    \n",
    "    data=pd.concat([usdjpy,eurusd,gbpusd,aususd,usdcad,usdchf,dow,nikkei,us10y,gold,wti,btc])\n",
    "    data=data.rename(columns={\"DEXJPUS\":\"JPY\",\"CBBTCUSD\":\"BTC\",\n",
    "                              \"DEXUSEU\":\"EUR\",\"DEXUSUK\":\"GBP\",\n",
    "                              \"DEXCAUS\":\"CAD\",\"DEXUSAL\":\"AUD\",\n",
    "                              \"DGS10\":\"US10Y\",\"VIXCLS\":\"VIX\",\n",
    "                              \"GOLDAMGBD228NLBM\":\"GOLD\",\"DCOILWTICO\":\"WTI\",\n",
    "                              \"DEXSZUS\":\"CHF\"})\n",
    "    \n",
    "    data = data.fillna(data.mean())\n",
    "    data = pd.DataFrame(preprocessing.minmax_scale(data, axis=1),columns=[\"JPY\",\"EUR\",\"GBP\",\"AUD\",\n",
    "                                                                          \"CAD\",\"CHF\",\"DOW\",\"NIKKEI\",\"US10Y\",\n",
    "                                                                          \"XAU\",\"WTI\",\"BTC\"])\n",
    "    data_corr = data.corr()\n",
    "    \n",
    "    fig = plt.figure(figsize=(10,10))\n",
    "    sns.heatmap(data_corr,cmap = \"GnBu\",annot=True)\n",
    "    \n",
    "    \n",
    "    plt.legend()\n",
    "    plt.show()\n",
    "    fig.savefig(\"img.png\")\n",
    "    \n",
    "    text=\"\"\"【本日の相関係数まとめ】\n",
    "    \n",
    "    この図は各商品同士の３ヶ月間の値動きの相関係数をまとめて表示したものです。\n",
    "    \n",
    "    色が濃い青に近いほど、正の相関が強くなります。\n",
    "    \n",
    "    逆に、色が薄い緑に近いほど、逆の相関が強くなります。\"\"\"\n",
    "    \n",
    "    return text"
   ]
  }
 ],
 "metadata": {
  "interpreter": {
   "hash": "aee8b7b246df8f9039afb4144a1f6fd8d2ca17a180786b69acc140d282b71a49"
  },
  "kernelspec": {
   "display_name": "Python 3.10.0 64-bit",
   "language": "python",
   "name": "python3"
  },
  "language_info": {
   "codemirror_mode": {
    "name": "ipython",
    "version": 3
   },
   "file_extension": ".py",
   "mimetype": "text/x-python",
   "name": "python",
   "nbconvert_exporter": "python",
   "pygments_lexer": "ipython3",
   "version": "3.10.0"
  },
  "orig_nbformat": 4
 },
 "nbformat": 4,
 "nbformat_minor": 2
}
